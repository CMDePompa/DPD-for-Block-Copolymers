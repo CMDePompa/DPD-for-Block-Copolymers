{
 "cells": [
  {
   "cell_type": "markdown",
   "id": "fad4164c",
   "metadata": {},
   "source": [
    "# Structural Analysis Notebook\n",
    "Includes RDF and other types of analysis"
   ]
  },
  {
   "cell_type": "code",
   "execution_count": 2,
   "id": "8445ae69",
   "metadata": {},
   "outputs": [],
   "source": [
    "# Imports:\n",
    "import MDAnalysis as mda\n",
    "from MDAnalysis.analysis.rdf import InterRDF\n",
    "import matplotlib.pyplot as plt\n",
    "import numpy as np"
   ]
  },
  {
   "cell_type": "markdown",
   "id": "40b432fe",
   "metadata": {},
   "source": [
    "## 1. RDF Analysis"
   ]
  },
  {
   "cell_type": "code",
   "execution_count": 3,
   "id": "5ba7e5e5",
   "metadata": {},
   "outputs": [
    {
     "name": "stderr",
     "output_type": "stream",
     "text": [
      "C:\\Users\\cclai\\anaconda3\\envs\\ct-env\\lib\\site-packages\\MDAnalysis\\coordinates\\LAMMPS.py:751: UserWarning: Reader has no dt information, set to 1.0 ps\n",
      "  ts.data[\"time\"] = step_num * ts.dt\n"
     ]
    }
   ],
   "source": [
    "# --- 1. Load LAMMPS files ---\n",
    "topology = \"fA_2.data\"         # LAMMPS data file\n",
    "trajectory = \"fA2.lammpstrj\"   # LAMMPS trajectory file\n",
    "\n",
    "u = mda.Universe(\"fA_2.data\", \"fA2.lammpstrj\", format=\"LAMMPSDUMP\")"
   ]
  },
  {
   "cell_type": "code",
   "execution_count": 4,
   "id": "71103886",
   "metadata": {},
   "outputs": [],
   "source": [
    "# --- 2. Select atom groups ---\n",
    "# Replace 'type 1' and 'type 2' with the monomer types you're interested in\n",
    "# You can also use names, IDs, or other selection criteria\n",
    "group1 = u.select_atoms(\"type 1\")   # e.g., monomer A\n",
    "group2 = u.select_atoms(\"type 2\")   # e.g., monomer B\n"
   ]
  },
  {
   "cell_type": "code",
   "execution_count": null,
   "id": "bd28b3ea",
   "metadata": {},
   "outputs": [],
   "source": [
    "# --- 3. Calculate RDF & save to CSV ---\n",
    "# For range, choose 0 to =< 0.5 box length. More than that runs into issues with artifacts\n",
    "# from periodic boundary conditions. Want the range to go far enough so that g(r) --> 1, \n",
    "# which means particles are uncorrelated at long range.\n",
    "\n",
    "# For bins, more bins => higher resolution, but potentially noisier if there aren't enough\n",
    "# atoms or frames. For dense systems or big particles (like polymers), 0.1 - 02 A bin width is \n",
    "# usually good. If RDF looks jagged, try increasing # of frames (sample more), or lowering\n",
    "# nbins slightly (will be smoother but lose resolution).\n",
    "#rdf = InterRDF(group1, group2, nbins=160, range=(0.0, 8.0))\n",
    "rdf = InterRDF(group1, group2, range=(0, 8), nbins=100, start=0, stop=5)\n",
    "rdf.run()\n",
    "\n",
    "np.savetxt(\"rdf_fA2.csv\", np.column_stack((rdf.bins, rdf.rdf)), \n",
    "           delimiter=\",\", header=\"r,g(r)\", comments='')"
   ]
  },
  {
   "cell_type": "code",
   "execution_count": null,
   "id": "05d3353d",
   "metadata": {},
   "outputs": [],
   "source": [
    "# --- 4. Plot the RDF ---\n",
    "plt.figure(figsize=(8, 5))\n",
    "plt.plot(rdf.bins, rdf.rdf, label='g(r)')\n",
    "plt.xlabel(\"Distance r (Å)\")\n",
    "plt.ylabel(\"g(r)\")\n",
    "plt.title(\"Radial Distribution Function\")\n",
    "plt.grid(True)\n",
    "plt.legend()\n",
    "plt.tight_layout()\n",
    "plt.show()"
   ]
  },
  {
   "cell_type": "markdown",
   "id": "acae7048",
   "metadata": {},
   "source": []
  },
  {
   "cell_type": "code",
   "execution_count": null,
   "id": "12cd6e00",
   "metadata": {},
   "outputs": [],
   "source": []
  },
  {
   "cell_type": "code",
   "execution_count": null,
   "id": "68d1f812",
   "metadata": {},
   "outputs": [],
   "source": []
  },
  {
   "cell_type": "code",
   "execution_count": null,
   "id": "c8aa7bba",
   "metadata": {},
   "outputs": [],
   "source": []
  }
 ],
 "metadata": {
  "kernelspec": {
   "display_name": "Python 3 (ipykernel)",
   "language": "python",
   "name": "python3"
  },
  "language_info": {
   "codemirror_mode": {
    "name": "ipython",
    "version": 3
   },
   "file_extension": ".py",
   "mimetype": "text/x-python",
   "name": "python",
   "nbconvert_exporter": "python",
   "pygments_lexer": "ipython3",
   "version": "3.11.10"
  }
 },
 "nbformat": 4,
 "nbformat_minor": 5
}
